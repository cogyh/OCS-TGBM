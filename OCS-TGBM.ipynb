{
 "cells": [
  {
   "cell_type": "markdown",
   "id": "aa82eb5b",
   "metadata": {},
   "source": [
    "# TDA聚类\n",
    "TDA-based association analysis between reaction conditions and yield"
   ]
  },
  {
   "cell_type": "code",
   "execution_count": null,
   "id": "22676a26",
   "metadata": {},
   "outputs": [],
   "source": [
    "import math\n",
    "import pandas as pd\n",
    "import numpy as np\n",
    "import matplotlib\n",
    "import matplotlib.pyplot as plt\n",
    "from sklearn import datasets\n",
    "%matplotlib inline\n",
    "matplotlib.rc('font', family='Arial Unicode MS',)  ## 解决图上文字乱码的问题"
   ]
  },
  {
   "cell_type": "code",
   "execution_count": null,
   "id": "f4fc2b5d",
   "metadata": {},
   "outputs": [],
   "source": [
    "from tda import TDA"
   ]
  },
  {
   "cell_type": "code",
   "execution_count": null,
   "id": "09ca9268",
   "metadata": {},
   "outputs": [],
   "source": [
    "data= np.loadtxt(open(\"x.csv\",\"rb\"),delimiter=\",\",skiprows=1)\n",
    "y = np.loadtxt(open(\"y.csv\",\"rb\"),delimiter=\",\",skiprows=1)"
   ]
  },
  {
   "cell_type": "code",
   "execution_count": null,
   "id": "61ffecc6",
   "metadata": {},
   "outputs": [],
   "source": [
    "def distance(a, b):\n",
    "    s = sum( (i-j) **2 for i, j in zip(a, b))\n",
    "    return math.sqrt(s)\n",
    "def L_inf(n, i):\n",
    "    L = 0\n",
    "    for j in range(len(n)):\n",
    "        dist = distance(n[i], n[j])\n",
    "        if dist > L:\n",
    "            L = dist\n",
    "    return L"
   ]
  },
  {
   "cell_type": "code",
   "execution_count": null,
   "id": "ce2c2d01",
   "metadata": {},
   "outputs": [],
   "source": [
    "t = TDA(distance, [(L_inf, 15,0.6)],5)\n",
    "t.fit(data)\n",
    "t.binums, len(t.clusters)"
   ]
  },
  {
   "cell_type": "code",
   "execution_count": null,
   "id": "4ac13dba",
   "metadata": {},
   "outputs": [],
   "source": [
    "t.dye(lambda d, i: y[i], figsize=6, Pk=1)\n",
    "plt.savefig('tda.tif', dpi=300, bbox_inches='tight')\n",
    "plt.show()"
   ]
  },
  {
   "cell_type": "markdown",
   "id": "b2e58635",
   "metadata": {},
   "source": [
    "# 多因素方差分析\n",
    "(Interaction-based association analysis between reaction conditions and yield：反应条件与产率的交互作用分析）"
   ]
  },
  {
   "cell_type": "code",
   "execution_count": null,
   "id": "21b8f63b",
   "metadata": {},
   "outputs": [],
   "source": [
    "data= np.loadtxt(open(\"xjiaohu.csv\",\"rb\"),delimiter=\",\",skiprows=1)\n",
    "df = pd.DataFrame(data, columns = ['Aryl', 'Ligand', 'y'])\n",
    "df.head()"
   ]
  },
  {
   "cell_type": "code",
   "execution_count": null,
   "id": "0637d2e9",
   "metadata": {},
   "outputs": [],
   "source": [
    "df1 = pd.DataFrame()\n",
    "data_list = []\n",
    "for i in df.Ligand.unique():\n",
    "    for j in df.Aryl.unique():\n",
    "        data = df[(df.Ligand == i)&(df.Aryl == j)]['y'].values\n",
    "        data_list.append(data)\n",
    "        df1 = df1.append(pd.DataFrame(data, columns = pd.MultiIndex.from_arrays([[i],[j]])).T)\n",
    "df1 = df1.T\n",
    "df1\n"
   ]
  },
  {
   "cell_type": "code",
   "execution_count": null,
   "id": "ffb083ff",
   "metadata": {},
   "outputs": [],
   "source": [
    "# 查看各组数量分布\n",
    "df1.count().to_frame()\n"
   ]
  },
  {
   "cell_type": "code",
   "execution_count": null,
   "id": "d0f52d5f",
   "metadata": {},
   "outputs": [],
   "source": [
    "df_mean = df1.mean().to_frame().unstack().round(1)\n",
    "df_mean.columns = ['1', '2', '3','4','5', '6', '7','8','9', '10', '11','12','13', '14', '15']\n",
    "df_mean = df_mean[['1', '2', '3','4','5', '6', '7','8','9', '10', '11','12','13', '14', '15']]\n",
    "df_mean"
   ]
  },
  {
   "cell_type": "code",
   "execution_count": null,
   "id": "27037978",
   "metadata": {},
   "outputs": [],
   "source": [
    "# 定义一个绘图函数\n",
    "def draw_pics(data, feature):\n",
    "    fig, ax = plt.subplots(figsize=(6, 4)) \n",
    "    for i in data.index:\n",
    "        ax.plot(data.columns, data.loc[i,], label = i, marker='o')\n",
    "        ax.legend()\n",
    "   # ax.set_title(\"y\")\n",
    "    ax.set_xlabel(feature, fontdict={'fontsize': 14})\n",
    "    ax.set_ylabel(\"Estimated Marginal Mean\", fontdict={'fontsize': 14})\n",
    "    plt.show()\n",
    "# 绘制不同的性别在不同的教育程度下的均值变化\n",
    "draw_pics(df_mean, 'Aryl')\n"
   ]
  },
  {
   "cell_type": "markdown",
   "id": "9dd4f8e3",
   "metadata": {},
   "source": [
    "# 产率预测"
   ]
  },
  {
   "cell_type": "code",
   "execution_count": null,
   "id": "bfb43a75",
   "metadata": {},
   "outputs": [],
   "source": [
    "import lightgbm as lgb\n",
    "from sklearn.metrics import mean_squared_error\n",
    "from sklearn.model_selection import GridSearchCV\n",
    "import matplotlib.pylab as plt\n",
    "from sklearn.model_selection import cross_val_score\n",
    "from sklearn.model_selection import KFold\n",
    "import fire\n",
    "from sklearn import metrics\n",
    "from matplotlib import pyplot"
   ]
  },
  {
   "cell_type": "code",
   "execution_count": null,
   "id": "5a34dd13",
   "metadata": {},
   "outputs": [],
   "source": [
    "data= np.loadtxt(open(\"x.csv\",\"rb\"),delimiter=\",\",skiprows=1)\n",
    "y = np.loadtxt(open(\"y.csv\",\"rb\"),delimiter=\",\",skiprows=1)"
   ]
  },
  {
   "cell_type": "code",
   "execution_count": null,
   "id": "77d81019",
   "metadata": {},
   "outputs": [],
   "source": [
    "import time\n",
    "start = time.time()\n",
    "\n",
    "gbm = lgb.LGBMRegressor(reg_alpha=0.11,reg_lambda=1,min_child_samples=8,min_child_weight=0,colsample_bytree=0.75,subsample=1,\n",
    "                        num_leaves=51,max_depth=12,min_split_gain=0,learning_rate=0.1,n_estimators=515)\n",
    "gbm.fit(X_train, y_train)\n",
    "# 测试机预测\n",
    "y_pred = gbm.predict(X_test)\n",
    "\n",
    "end = time.time()\n",
    "print(\"循环运行时间:%.4f秒\"%(end-start))"
   ]
  },
  {
   "cell_type": "code",
   "execution_count": null,
   "id": "36bad1e9",
   "metadata": {},
   "outputs": [],
   "source": [
    "from sklearn import metrics\n",
    "# 评估回归性能\n",
    "print('Mean Absolute Error:', metrics.mean_absolute_error(y_test, y_pred))\n",
    "print('Mean Squared Error:', metrics.mean_squared_error(y_test, y_pred))\n",
    "print('Root Mean Squared Error:',\n",
    "      np.sqrt(metrics.mean_squared_error(y_test, y_pred)))\n",
    "print('R2:', metrics.r2_score(y_test, y_pred))"
   ]
  },
  {
   "cell_type": "markdown",
   "id": "4e359586",
   "metadata": {},
   "source": [
    "# 多样性抽样"
   ]
  },
  {
   "cell_type": "code",
   "execution_count": null,
   "id": "c7456b01",
   "metadata": {},
   "outputs": [],
   "source": [
    "import numpy as np\n",
    "import pandas as pd\n",
    "import torch\n",
    "from keras.models import Sequential\n",
    "from sklearn.model_selection import train_test_split\n",
    "from keras.layers import Dense,Dropout,Flatten,Conv1D,MaxPool1D,BatchNormalization,Activation\n",
    "import matplotlib.pyplot as plt\n",
    "from keras import backend as K"
   ]
  },
  {
   "cell_type": "code",
   "execution_count": null,
   "id": "250c677b",
   "metadata": {},
   "outputs": [],
   "source": [
    "data= np.loadtxt(open(\"x.csv\",\"rb\"),delimiter=\",\",skiprows=1)\n",
    "y = np.loadtxt(open(\"y.csv\",\"rb\"),delimiter=\",\",skiprows=1)"
   ]
  },
  {
   "cell_type": "code",
   "execution_count": null,
   "id": "ea874874",
   "metadata": {},
   "outputs": [],
   "source": [
    "X=torch.from_numpy(data)"
   ]
  },
  {
   "cell_type": "code",
   "execution_count": null,
   "id": "527c90fe",
   "metadata": {},
   "outputs": [],
   "source": [
    "# 将数据分为训练集和测试集\n",
    "from sklearn.model_selection import train_test_split\n",
    "x_training, x_unlabeled, y_training, y_unlabeled = train_test_split(X,y,train_size=0.1)"
   ]
  },
  {
   "cell_type": "code",
   "execution_count": null,
   "id": "af298abe",
   "metadata": {},
   "outputs": [],
   "source": [
    "# 此函数用于更新Train_x\n",
    "# data_var来源于相似度计算，是x_test中的数据\n",
    "def upTrain_x(data_var,X):\n",
    "    final_update= torch.tensor([item.detach().numpy() for item in data_var])\n",
    "    return torch.cat((X,final_update),dim = 0)\n",
    "    \n",
    "# 用于更新train_y\n",
    "## train_y = train_y + (data_var <- test_y)\n",
    "def upTrain_y(data_var,Y):\n",
    "    return torch.cat((Y,data_var),dim = 0)\n",
    "\n",
    "# 用于更新test_y：\n",
    "## test_y => \n",
    "##          1. test_y\n",
    "##          2. data_var -> train_y\n",
    "## return: (test_y,data_var)\n",
    "def upTest_y(line_num,Y):\n",
    "    out = np.array([],dtype='float64')\n",
    "    data_var = np.array([],dtype='float64')\n",
    "    for i in range(len(Y)):\n",
    "        if i not in line_num:\n",
    "            out = np.append(out,Y[i])\n",
    "        else:\n",
    "            data_var = np.append(data_var,Y[i])\n",
    "    return (torch.tensor(out),torch.tensor(data_var))   \n",
    "\n",
    "# 此函数用于更新x\n",
    "# 删除x_test中的数据，不做返回，返回在相似度计算时已做\n",
    "## test_x => \n",
    "##          1. test_x\n",
    "##          2. data_var -> train_x\n",
    "def upTest_x(line_num,X):\n",
    "    out = []\n",
    "    for i in range(len(X)):                \n",
    "        if i not in line_num:\n",
    "            out.append(X[i])\n",
    "    return torch.stack(out,dim = 1).T   # 转化为torch，注意需要转至 \n",
    "\n",
    "# 此函数用于计算训练集与测试集相似度\n",
    "## x_train: 训练集的x\n",
    "## x_test: 测试集的x\n",
    "## return:\n",
    "###       1. line_num\n",
    "###       2. data_var <- x_test\n",
    "def CalSim(x_train,x_test,n):\n",
    "    similarity_list = []\n",
    "    #line_num,data_var=[],[]\n",
    "    for i in range(len(x_test)):\n",
    "        s_ = torch.cosine_similarity(x_test[i],x_train, dim=-1)#计算未标记数据的与所有标记数据的相似度\n",
    "        s_max = torch.max(s_).item() # 返回每一个未标记数据对应的最大相似度\n",
    "        similarity_list.append(s_max) # 将最大相似度添加到相似度列表中\n",
    "    df = pd.DataFrame(zip(list(enumerate(x_test)), similarity_list), columns=['index', 'similarity'])\n",
    "    df_sorted = df.sort_values(by=['similarity'], ascending=True)#将最大相似度升序排列\n",
    "    df_index = df_sorted['index'].values\n",
    "    update_list = list(df_index[:n])#选择前10名作为候选对象\n",
    "    # 将ipdate_list排序\n",
    "    df2 = pd.DataFrame(update_list,columns=[\"num\",\"data\"])\n",
    "    df2 = df2.sort_values(by=['num'], ascending=True)               #升序排列\n",
    "    line_num = list(df2[\"num\"])\n",
    "    data_var = list(df2[\"data\"])\n",
    "    return (line_num,data_var)\n"
   ]
  },
  {
   "cell_type": "code",
   "execution_count": null,
   "id": "b7ccfe92",
   "metadata": {},
   "outputs": [],
   "source": [
    "def Upgrade(n,m,train_x,train_y,test_x,test_y):\n",
    "    train_x_ = train_x\n",
    "    train_y_ = torch.tensor(train_y)\n",
    "    test_x_ = test_x\n",
    "    test_y_ = torch.tensor(test_y)\n",
    "    count = 0\n",
    "    while count < n:\n",
    "        print(\"Loop <{}> |\".format(count),end=\"\\t\")\n",
    "        out_sim = CalSim(train_x_,test_x_,m)\n",
    "        # 更新train_x_\n",
    "        train_x_ = upTrain_x(out_sim[1],train_x_)\n",
    "        print(\"New train_x = ({},{})\\t\".format(train_x_.shape[0],train_x_.shape[1]),end=\"\\t\")\n",
    "        ## 更新test_x_\n",
    "        test_x_ = upTest_x(out_sim[0],test_x_)\n",
    "        print(\"New test_x = ({},{})\\t\".format(test_x_.shape[0],test_x_.shape[1]),end=\"\\t\")\n",
    "        ## 更新test_y_\n",
    "        out_uptest_y = upTest_y(out_sim[0],test_y_)\n",
    "        test_y_ = out_uptest_y[0]\n",
    "        print(\"New test_y_ = ({},)\\t\".format(test_y_.shape[0]),end=\"\\t\")\n",
    "        ## 更新train_y_\n",
    "        #print(train_y_)\n",
    "        train_y_ = upTrain_y(out_uptest_y[1],train_y_)\n",
    "        print(\"New train_y_ = ({},)\\t\".format(train_y_.shape[0]),end=\"\\n\")\n",
    "        count += 1\n",
    "    #return (train_x_,train_y_,test_x_,test_y_)                                      # 返回的都是tensor\n",
    "    return (train_x_.numpy(),train_y_.numpy(),test_x_.numpy(),test_y_.numpy())       # 将所有的转化为array\n"
   ]
  },
  {
   "cell_type": "code",
   "execution_count": null,
   "id": "4027c71c",
   "metadata": {},
   "outputs": [],
   "source": [
    "a = Upgrade(6,395,x_training, y_training,x_unlabeled,y_unlabeled)"
   ]
  },
  {
   "cell_type": "code",
   "execution_count": null,
   "id": "25082bf1",
   "metadata": {},
   "outputs": [],
   "source": [
    "X_train=a[0]\n",
    "X_test=a[2]\n",
    "y_train=a[1]\n",
    "y_test=a[3]"
   ]
  }
 ],
 "metadata": {
  "kernelspec": {
   "display_name": "Python 3 (ipykernel)",
   "language": "python",
   "name": "python3"
  },
  "language_info": {
   "codemirror_mode": {
    "name": "ipython",
    "version": 3
   },
   "file_extension": ".py",
   "mimetype": "text/x-python",
   "name": "python",
   "nbconvert_exporter": "python",
   "pygments_lexer": "ipython3",
   "version": "3.9.13"
  }
 },
 "nbformat": 4,
 "nbformat_minor": 5
}
